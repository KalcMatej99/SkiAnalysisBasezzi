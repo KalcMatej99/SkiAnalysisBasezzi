{
 "cells": [
  {
   "cell_type": "code",
   "execution_count": 79,
   "metadata": {},
   "outputs": [],
   "source": [
    "import pandas as pd\n",
    "import matplotlib.pyplot as plt\n",
    "import numpy as np\n",
    "import geopy.distance\n",
    "import geopy.point\n"
   ]
  },
  {
   "cell_type": "code",
   "execution_count": 80,
   "metadata": {},
   "outputs": [],
   "source": [
    "df_skiers = pd.read_csv(\"../data/filtered/Dati_filtrati_all.csv\")\n",
    "df_skiers = df_skiers[df_skiers[\"DNF\"] == False]"
   ]
  },
  {
   "cell_type": "code",
   "execution_count": 81,
   "metadata": {},
   "outputs": [],
   "source": [
    "vel_df = pd.DataFrame(columns=[\"Athlete\", \"Day\", \"0 - 60\", \"60 - 65\", \"65 - 70\", \"70 - 75\", \"75 - 80\", \"80 - 85\", \"85+\"])\n",
    "\n",
    "for day in [\"G1\", \"P1\", \"P2\"]:\n",
    "    df_skiers_day = df_skiers[df_skiers[\"Day\"] == day]\n",
    "    n_intervals = 1 + 5 + 1\n",
    "    global_intervals = [0] * n_intervals\n",
    "\n",
    "    for athlete, skier_file, startTime, duration in zip(df_skiers_day[\"Atleta\"], df_skiers_day[\"File_gps\"], df_skiers_day[\"StartTime\"], df_skiers_day[\"Time\"]):\n",
    "        df_skier = pd.read_csv(skier_file)\n",
    "        df_skier_started = df_skier[df_skier[\"Timestamp\"] >= startTime]\n",
    "        df_skier_run = df_skier_started[df_skier_started[\"Timestamp\"] <= startTime + duration]\n",
    "        df_skier_run = df_skier_run.sort_values('Timestamp', ascending=False)\n",
    "        intervals = [0] * n_intervals\n",
    "\n",
    "        for velocity, long1, lat1, alt1, long2, lat2, alt2 in zip(df_skier_run[\"GNSS_SpeedOverGround\"][:-1], df_skier_run[\"GNSS_Longitude\"][:-1], df_skier_run[\"GNSS_Latitude\"][:-1], df_skier_run[\"GNSS_Altitude\"][:-1],df_skier_run[\"GNSS_Longitude\"][1:], df_skier_run[\"GNSS_Latitude\"][1:],df_skier_run[\"GNSS_Altitude\"][1:]):\n",
    "\n",
    "            distance2d = geopy.distance.geodesic((long1, lat1), (long2, lat2)).m\n",
    "            distance = np.sqrt(distance2d**2 + (alt1 - alt2)**2)\n",
    "\n",
    "            if velocity <= 60:\n",
    "                intervals[0] += distance\n",
    "                global_intervals[0] += distance\n",
    "            elif velocity >= 85:\n",
    "                intervals[7] += distance\n",
    "                global_intervals[7] += distance\n",
    "            else:\n",
    "                intervals[int(np.floor((velocity - 60) / 5)) + 1] += distance\n",
    "                global_intervals[int(np.floor((velocity - 60) / 5)) + 1] += distance        \n",
    "        plt.bar(range(1, 8), intervals)\n",
    "        plt.xlabel(\"Velocity (km/h)\")\n",
    "        plt.ylabel(\"Distance travelled (m)\")\n",
    "        plt.xticks(range(1, 8), [\"0 - 60\", \"60 - 65\", \"65 - 70\", \"70 - 75\", \"75 - 80\", \"80 - 85\", \"85+\"])\n",
    "        plt.title(f\"Travelled distance in different velocity ranges of skier {athlete} on day {day}\")\n",
    "        plt.savefig(f\"../figures/Travelled_distance_in_different_velocity_ranges_of_skier_{athlete}_on_day_{day}.png\")\n",
    "        plt.close()\n",
    "\n",
    "        intervals.insert(0, day)\n",
    "        intervals.insert(0, athlete)\n",
    "        vel_df.loc[len(vel_df)] = intervals\n",
    "\n",
    "\n",
    "    plt.bar(range(1, 8), global_intervals)\n",
    "    plt.xlabel(\"Velocity (km/h)\")\n",
    "    plt.ylabel(\"Distance travelled (m)\")\n",
    "    plt.xticks(range(1, 8), [\"0 - 60\", \"60 - 65\", \"65 - 70\", \"70 - 75\", \"75 - 80\", \"80 - 85\", \"85+\"])\n",
    "    plt.title(f\"Travelled distance in different velocity ranges of skiers on day {day}\")\n",
    "    plt.savefig(f\"../figures/Travelled_distance_in_different_velocity_ranges_of_skiers_on_day_{day}.png\")\n",
    "    plt.close()\n",
    "vel_df.to_csv(\"../data/filtered/velocity_ranges.csv\", index=False)"
   ]
  }
 ],
 "metadata": {
  "kernelspec": {
   "display_name": "petraBazecciMag",
   "language": "python",
   "name": "python3"
  },
  "language_info": {
   "codemirror_mode": {
    "name": "ipython",
    "version": 3
   },
   "file_extension": ".py",
   "mimetype": "text/x-python",
   "name": "python",
   "nbconvert_exporter": "python",
   "pygments_lexer": "ipython3",
   "version": "3.11.1"
  },
  "orig_nbformat": 4,
  "vscode": {
   "interpreter": {
    "hash": "4894fb1c250db039e6d1975733d06d2e6e39d5775af99450deab30350ee0b32e"
   }
  }
 },
 "nbformat": 4,
 "nbformat_minor": 2
}
