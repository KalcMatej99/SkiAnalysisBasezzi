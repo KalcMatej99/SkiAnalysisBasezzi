{
 "cells": [
  {
   "cell_type": "code",
   "execution_count": 4,
   "metadata": {},
   "outputs": [],
   "source": [
    "import pandas as pd\n",
    "import matplotlib.pyplot as plt\n",
    "import numpy as np\n",
    "import geopy.distance\n",
    "import geopy.point"
   ]
  },
  {
   "cell_type": "code",
   "execution_count": 5,
   "metadata": {},
   "outputs": [],
   "source": [
    "df_skiers = pd.read_csv(\"../data/filtered/Dati_filtrati_all.csv\")\n",
    "df_skiers = df_skiers[df_skiers[\"DNF\"] == False]"
   ]
  },
  {
   "cell_type": "code",
   "execution_count": 6,
   "metadata": {},
   "outputs": [],
   "source": [
    "ranges = [50, 55, 60, 65, 70, 75]\n",
    "columns = [\"Athlete\", \"Day\"]\n",
    "for i_range, range_ in enumerate(ranges):\n",
    "    if i_range == 0:\n",
    "        columns.append(f\"0 - {range_}\")\n",
    "    elif i_range == len(ranges) - 1:\n",
    "        columns.append(f\"{ranges[i_range - 1]} - {range_}\")\n",
    "        columns.append(f\">{range_}\")\n",
    "        columns.append(\"File_gps\")\n",
    "    else:\n",
    "        columns.append(f\"{ranges[i_range - 1]} - {range_}\")\n",
    "\n",
    "vel_df = pd.DataFrame(columns=columns)\n",
    "\n",
    "for day in [\"G1\", \"P1\", \"P2\"]:\n",
    "    df_skiers_day = df_skiers[df_skiers[\"Day\"] == day]\n",
    "    n_intervals = len(ranges) + 1\n",
    "    global_intervals = [0] * n_intervals\n",
    "\n",
    "    for athlete, skier_file, startTime, duration in zip(df_skiers_day[\"Atleta\"], df_skiers_day[\"File_gps\"], df_skiers_day[\"StartTime\"], df_skiers_day[\"Time\"]):\n",
    "        df_skier = pd.read_csv(skier_file)\n",
    "        df_skier_started = df_skier[df_skier[\"Timestamp\"] >= startTime]\n",
    "        df_skier_run = df_skier_started[df_skier_started[\"Timestamp\"] <= startTime + duration]\n",
    "        df_skier_run = df_skier_run.sort_values('Timestamp', ascending=False)\n",
    "        intervals = [0] * n_intervals\n",
    "\n",
    "        for velocity, long1, lat1, alt1, long2, lat2, alt2 in zip(df_skier_run[\"GNSS_SpeedOverGround\"][:-1], df_skier_run[\"GNSS_Longitude\"][:-1], df_skier_run[\"GNSS_Latitude\"][:-1], df_skier_run[\"GNSS_Altitude\"][:-1],df_skier_run[\"GNSS_Longitude\"][1:], df_skier_run[\"GNSS_Latitude\"][1:],df_skier_run[\"GNSS_Altitude\"][1:]):\n",
    "\n",
    "            distance2d = geopy.distance.geodesic((long1, lat1), (long2, lat2)).m\n",
    "            distance = np.sqrt(distance2d**2 + (alt1 - alt2)**2)\n",
    "\n",
    "            for i_range in range(n_intervals):\n",
    "                if i_range == n_intervals - 1 or velocity <= ranges[i_range]:\n",
    "                    intervals[i_range] += distance\n",
    "                    global_intervals[i_range] += distance\n",
    "                    break\n",
    "        plt.xlabel(\"Velocity (km/h)\")\n",
    "        plt.ylabel(\"Distance travelled (m)\")\n",
    "        plt.title(f\"Travelled distance in different velocity ranges of skier {athlete} on day {day}\")\n",
    "        plt.savefig(f\"../figures/Travelled_distance_in_different_velocity_ranges_of_skier_{athlete}_on_day_{day}.png\")\n",
    "        plt.close()\n",
    "\n",
    "        intervals.insert(0, day)\n",
    "        intervals.insert(0, athlete)\n",
    "        intervals.append(skier_file)\n",
    "        vel_df.loc[len(vel_df)] = intervals\n",
    "\n",
    "\n",
    "    plt.bar(range(1, n_intervals + 1), global_intervals)\n",
    "    plt.xlabel(\"Velocity (km/h)\")\n",
    "    plt.ylabel(\"Distance travelled (m)\")\n",
    "    plt.title(f\"Travelled distance in different velocity ranges of skiers on day {day}\")\n",
    "    plt.savefig(f\"../figures/Travelled_distance_in_different_velocity_ranges_of_skiers_on_day_{day}.png\")\n",
    "    plt.close()\n",
    "vel_df.to_csv(\"../data/filtered/velocity_ranges.csv\", index=False)"
   ]
  }
 ],
 "metadata": {
  "kernelspec": {
   "display_name": "skiAnalysisBasezzi",
   "language": "python",
   "name": "python3"
  },
  "language_info": {
   "codemirror_mode": {
    "name": "ipython",
    "version": 3
   },
   "file_extension": ".py",
   "mimetype": "text/x-python",
   "name": "python",
   "nbconvert_exporter": "python",
   "pygments_lexer": "ipython3",
   "version": "3.11.2"
  },
  "orig_nbformat": 4,
  "vscode": {
   "interpreter": {
    "hash": "3589e548b175dc3837ebc608d5f9d839fa18a74c04610d2e4c35e2bc87507aad"
   }
  }
 },
 "nbformat": 4,
 "nbformat_minor": 2
}
