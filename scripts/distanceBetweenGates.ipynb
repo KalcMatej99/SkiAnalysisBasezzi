{
 "cells": [
  {
   "cell_type": "code",
   "execution_count": 1,
   "metadata": {},
   "outputs": [],
   "source": [
    "import pandas as pd\n",
    "import numpy as np\n",
    "import geopy.distance\n",
    "import geopy.point\n",
    "import math"
   ]
  },
  {
   "cell_type": "code",
   "execution_count": 2,
   "metadata": {},
   "outputs": [],
   "source": [
    "def calculate_distance(df):\n",
    "\n",
    "    distance = 0\n",
    "    \n",
    "    for long1, lat1, alt1, long2, lat2, alt2 in zip(df[\"GNSS_Longitude\"][:-1], df[\"GNSS_Latitude\"][:-1], df[\"GNSS_Altitude\"][:-1],df[\"GNSS_Longitude\"][1:], df[\"GNSS_Latitude\"][1:],df[\"GNSS_Altitude\"][1:]):\n",
    "\n",
    "        distance2d = geopy.distance.geodesic((long1, lat1), (long2, lat2)).m\n",
    "        distance += np.sqrt(distance2d**2 + (alt1 - alt2)**2)\n",
    "\n",
    "    return distance"
   ]
  },
  {
   "cell_type": "code",
   "execution_count": 3,
   "metadata": {},
   "outputs": [
    {
     "name": "stdout",
     "output_type": "stream",
     "text": [
      "Number of gates is 28\n",
      "Number of gates is 21\n",
      "Number of gates is 21\n"
     ]
    }
   ],
   "source": [
    "for day in [\"G1\", \"P1\", \"P2\"]:\n",
    "    gate_coordinates_df = pd.read_csv(f\"../data/{day}/gate_coordinates.csv\")\n",
    "\n",
    "    gates_distances_df = pd.DataFrame(columns=[\"Gate\", \"Next_gate\", \"Aerial_distance\", \"Lateral_distance\"])\n",
    "\n",
    "    number_of_gates = np.max(gate_coordinates_df[\"num\"])\n",
    "\n",
    "    print(\"Number of gates is\", number_of_gates)\n",
    "\n",
    "    for gate_index in range(1, number_of_gates - 1):\n",
    "        gate_loc = gate_coordinates_df.to_numpy()[gate_index - 1][1:]\n",
    "        next_gate_loc = gate_coordinates_df.to_numpy()[gate_index][1:]\n",
    "        next_next_gate_loc = gate_coordinates_df.to_numpy()[gate_index + 1][1:]\n",
    "\n",
    "        aerial_distance = geopy.distance.geodesic(gate_loc, next_gate_loc).m\n",
    "\n",
    "        aerial_distance_g1_g2 = aerial_distance\n",
    "        aerial_distance_g1_g3 = geopy.distance.geodesic(gate_loc, next_next_gate_loc).m\n",
    "        aerial_distance_g2_g3 = geopy.distance.geodesic(next_gate_loc, next_next_gate_loc).m\n",
    "\n",
    "        a2 = aerial_distance_g2_g3 ** 2\n",
    "        b2 = aerial_distance_g1_g2 ** 2\n",
    "        c2 = aerial_distance_g1_g3 ** 2\n",
    "\n",
    "        alpha = math.acos((b2 + c2 - a2) /\n",
    "                         (2 * aerial_distance_g1_g2 * aerial_distance_g1_g3))\n",
    "    \n",
    "\n",
    "        lateral_distance = math.sin(alpha) * aerial_distance_g1_g2\n",
    "\n",
    "        gates_distances_df.loc[len(gates_distances_df)] = [int(gate_index), int(gate_index + 1), aerial_distance, lateral_distance]\n",
    "    gates_distances_df.to_csv(f\"../data/filtered/gates_filtering/gates_distances_{day}.csv\", index=False)\n"
   ]
  }
 ],
 "metadata": {
  "kernelspec": {
   "display_name": "skiAnalysisBasezzi",
   "language": "python",
   "name": "python3"
  },
  "language_info": {
   "codemirror_mode": {
    "name": "ipython",
    "version": 3
   },
   "file_extension": ".py",
   "mimetype": "text/x-python",
   "name": "python",
   "nbconvert_exporter": "python",
   "pygments_lexer": "ipython3",
   "version": "3.11.2"
  },
  "orig_nbformat": 4,
  "vscode": {
   "interpreter": {
    "hash": "3589e548b175dc3837ebc608d5f9d839fa18a74c04610d2e4c35e2bc87507aad"
   }
  }
 },
 "nbformat": 4,
 "nbformat_minor": 2
}
