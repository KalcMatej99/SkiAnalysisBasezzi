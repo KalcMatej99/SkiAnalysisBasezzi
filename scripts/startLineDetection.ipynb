{
 "cells": [
  {
   "cell_type": "code",
   "execution_count": null,
   "metadata": {},
   "outputs": [],
   "source": [
    "import pandas as pd\n",
    "import matplotlib.pyplot as plt\n",
    "import numpy as np"
   ]
  },
  {
   "cell_type": "code",
   "execution_count": null,
   "metadata": {},
   "outputs": [],
   "source": [
    "df_skiers = pd.read_csv(\"../data/filtered/Dati_filtrati_all.csv\")\n",
    "df_skiers = df_skiers[df_skiers[\"DNF\"] == False]"
   ]
  },
  {
   "cell_type": "code",
   "execution_count": null,
   "metadata": {},
   "outputs": [],
   "source": [
    "for day in [\"G1\", \"P1\", \"P2\"]:\n",
    "    df_skiers_day = df_skiers[df_skiers[\"Day\"] == day]\n",
    "\n",
    "\n",
    "    longS, latS = [], []\n",
    "    longE, latE = [], []\n",
    "\n",
    "    for skier_file, startTime, duration in zip(df_skiers_day[\"File_gps\"], df_skiers_day[\"StartTime\"], df_skiers_day[\"Time\"]):\n",
    "        df_skier = pd.read_csv(skier_file)\n",
    "        df_skier_started = df_skier[df_skier[\"Timestamp\"] >= startTime]\n",
    "        df_skier_run = df_skier_started[df_skier_started[\"Timestamp\"] <= startTime + duration]\n",
    "        df_skier_run = df_skier_run.sort_values('Timestamp', ascending=False)\n",
    "\n",
    "        plt.plot(df_skier_run[\"GNSS_Longitude\"], df_skier_run[\"GNSS_Latitude\"])\n",
    "        longS.append(df_skier_run[\"GNSS_Longitude\"].to_numpy()[0])\n",
    "        latS.append(df_skier_run[\"GNSS_Latitude\"].to_numpy()[0])\n",
    "        longE.append(df_skier_run[\"GNSS_Longitude\"].to_numpy()[-1])\n",
    "        latE.append(df_skier_run[\"GNSS_Latitude\"].to_numpy()[-1])\n",
    "\n",
    "    print(\"Start line for day\", day, \"is (\", np.average(longS), \",\", np.average(latS), \")\")\n",
    "    print(\"Finish line for day\", day, \"is (\", np.average(longE), \",\", np.average(latE), \")\")\n",
    "\n",
    "    plt.title(f\"Skiers traces for day {day}\")\n",
    "    plt.xlabel(\"Longitude\")\n",
    "    plt.ylabel(\"Latitude\")\n",
    "    plt.savefig(f\"../figures/skiers_traces_day_{day}\")\n",
    "    plt.show()"
   ]
  }
 ],
 "metadata": {
  "kernelspec": {
   "display_name": "petraBazecciMag",
   "language": "python",
   "name": "python3"
  },
  "language_info": {
   "codemirror_mode": {
    "name": "ipython",
    "version": 3
   },
   "file_extension": ".py",
   "mimetype": "text/x-python",
   "name": "python",
   "nbconvert_exporter": "python",
   "pygments_lexer": "ipython3",
   "version": "3.11.1"
  },
  "orig_nbformat": 4,
  "vscode": {
   "interpreter": {
    "hash": "4894fb1c250db039e6d1975733d06d2e6e39d5775af99450deab30350ee0b32e"
   }
  }
 },
 "nbformat": 4,
 "nbformat_minor": 2
}
