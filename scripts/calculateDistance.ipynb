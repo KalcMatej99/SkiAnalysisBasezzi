{
 "cells": [
  {
   "cell_type": "code",
   "execution_count": 1,
   "metadata": {},
   "outputs": [],
   "source": [
    "import pandas as pd\n",
    "import matplotlib.pyplot as plt\n",
    "import numpy as np\n",
    "import geopy.distance\n",
    "import geopy.point\n"
   ]
  },
  {
   "cell_type": "code",
   "execution_count": 2,
   "metadata": {},
   "outputs": [],
   "source": [
    "df_skiers = pd.read_csv(\"../data/filtered/Dati_filtrati_all.csv\")\n",
    "df_skiers = df_skiers[df_skiers[\"DNF\"] == False]"
   ]
  },
  {
   "cell_type": "code",
   "execution_count": 3,
   "metadata": {},
   "outputs": [],
   "source": [
    "dist_df = pd.DataFrame(columns=[\"Athlete\", \"Day\", \"File_gps\", \"Distance\"])\n",
    "for day in [\"G1\", \"P1\", \"P2\"]:\n",
    "    df_skiers_day = df_skiers[df_skiers[\"Day\"] == day]\n",
    "\n",
    "    for athlete, skier_file, startTime, duration in zip(df_skiers_day[\"Atleta\"], df_skiers_day[\"File_gps\"], df_skiers_day[\"StartTime\"], df_skiers_day[\"Time\"]):\n",
    "        df_skier = pd.read_csv(skier_file)\n",
    "        df_skier_started = df_skier[df_skier[\"Timestamp\"] >= startTime]\n",
    "        df_skier_run = df_skier_started[df_skier_started[\"Timestamp\"] <= startTime + duration]\n",
    "        df_skier_run = df_skier_run.sort_values('Timestamp', ascending=False)\n",
    "        distance = 0\n",
    "        for long1, lat1, alt1, long2, lat2, alt2 in zip(df_skier_run[\"GNSS_Longitude\"][:-1], df_skier_run[\"GNSS_Latitude\"][:-1], df_skier_run[\"GNSS_Altitude\"][:-1],df_skier_run[\"GNSS_Longitude\"][1:], df_skier_run[\"GNSS_Latitude\"][1:],df_skier_run[\"GNSS_Altitude\"][1:]):\n",
    "\n",
    "            distance2d = geopy.distance.geodesic((long1, lat1), (long2, lat2)).m\n",
    "            distance += np.sqrt(distance2d**2 + (alt1 - alt2)**2)\n",
    "\n",
    "        dist_df.loc[len(dist_df)] = [athlete, day, skier_file, distance]\n",
    "dist_df.to_csv(\"../data/filtered/distances.csv\", index = False)"
   ]
  }
 ],
 "metadata": {
  "kernelspec": {
   "display_name": "skiAnalysisBasezzi",
   "language": "python",
   "name": "python3"
  },
  "language_info": {
   "codemirror_mode": {
    "name": "ipython",
    "version": 3
   },
   "file_extension": ".py",
   "mimetype": "text/x-python",
   "name": "python",
   "nbconvert_exporter": "python",
   "pygments_lexer": "ipython3",
   "version": "3.11.2"
  },
  "orig_nbformat": 4,
  "vscode": {
   "interpreter": {
    "hash": "3589e548b175dc3837ebc608d5f9d839fa18a74c04610d2e4c35e2bc87507aad"
   }
  }
 },
 "nbformat": 4,
 "nbformat_minor": 2
}
